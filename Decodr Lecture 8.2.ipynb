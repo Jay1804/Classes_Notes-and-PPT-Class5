{
 "cells": [
  {
   "cell_type": "code",
   "execution_count": 2,
   "metadata": {},
   "outputs": [
    {
     "data": {
      "text/html": [
       "<div>\n",
       "<style scoped>\n",
       "    .dataframe tbody tr th:only-of-type {\n",
       "        vertical-align: middle;\n",
       "    }\n",
       "\n",
       "    .dataframe tbody tr th {\n",
       "        vertical-align: top;\n",
       "    }\n",
       "\n",
       "    .dataframe thead th {\n",
       "        text-align: right;\n",
       "    }\n",
       "</style>\n",
       "<table border=\"1\" class=\"dataframe\">\n",
       "  <thead>\n",
       "    <tr style=\"text-align: right;\">\n",
       "      <th></th>\n",
       "      <th>date</th>\n",
       "      <th>department</th>\n",
       "      <th>fuel_price_usd_per_l</th>\n",
       "      <th>is_holiday</th>\n",
       "      <th>store</th>\n",
       "      <th>temperature_c</th>\n",
       "      <th>type</th>\n",
       "      <th>unemployment</th>\n",
       "      <th>weekly_sales</th>\n",
       "    </tr>\n",
       "  </thead>\n",
       "  <tbody>\n",
       "    <tr>\n",
       "      <th>0</th>\n",
       "      <td>2010-02-05</td>\n",
       "      <td>1</td>\n",
       "      <td>0.679451</td>\n",
       "      <td>False</td>\n",
       "      <td>1</td>\n",
       "      <td>5.727778</td>\n",
       "      <td>A</td>\n",
       "      <td>8.106</td>\n",
       "      <td>24924.50</td>\n",
       "    </tr>\n",
       "    <tr>\n",
       "      <th>1</th>\n",
       "      <td>2010-03-05</td>\n",
       "      <td>1</td>\n",
       "      <td>0.693452</td>\n",
       "      <td>False</td>\n",
       "      <td>1</td>\n",
       "      <td>8.055556</td>\n",
       "      <td>A</td>\n",
       "      <td>8.106</td>\n",
       "      <td>21827.90</td>\n",
       "    </tr>\n",
       "    <tr>\n",
       "      <th>2</th>\n",
       "      <td>2010-04-02</td>\n",
       "      <td>1</td>\n",
       "      <td>0.718284</td>\n",
       "      <td>False</td>\n",
       "      <td>1</td>\n",
       "      <td>16.816667</td>\n",
       "      <td>A</td>\n",
       "      <td>7.808</td>\n",
       "      <td>57258.43</td>\n",
       "    </tr>\n",
       "    <tr>\n",
       "      <th>3</th>\n",
       "      <td>2010-05-07</td>\n",
       "      <td>1</td>\n",
       "      <td>0.748928</td>\n",
       "      <td>False</td>\n",
       "      <td>1</td>\n",
       "      <td>22.527778</td>\n",
       "      <td>A</td>\n",
       "      <td>7.808</td>\n",
       "      <td>17413.94</td>\n",
       "    </tr>\n",
       "    <tr>\n",
       "      <th>4</th>\n",
       "      <td>2010-06-04</td>\n",
       "      <td>1</td>\n",
       "      <td>0.714586</td>\n",
       "      <td>False</td>\n",
       "      <td>1</td>\n",
       "      <td>27.050000</td>\n",
       "      <td>A</td>\n",
       "      <td>7.808</td>\n",
       "      <td>17558.09</td>\n",
       "    </tr>\n",
       "  </tbody>\n",
       "</table>\n",
       "</div>"
      ],
      "text/plain": [
       "         date  department  fuel_price_usd_per_l  is_holiday  store  \\\n",
       "0  2010-02-05           1              0.679451       False      1   \n",
       "1  2010-03-05           1              0.693452       False      1   \n",
       "2  2010-04-02           1              0.718284       False      1   \n",
       "3  2010-05-07           1              0.748928       False      1   \n",
       "4  2010-06-04           1              0.714586       False      1   \n",
       "\n",
       "   temperature_c type  unemployment  weekly_sales  \n",
       "0       5.727778    A         8.106      24924.50  \n",
       "1       8.055556    A         8.106      21827.90  \n",
       "2      16.816667    A         7.808      57258.43  \n",
       "3      22.527778    A         7.808      17413.94  \n",
       "4      27.050000    A         7.808      17558.09  "
      ]
     },
     "execution_count": 2,
     "metadata": {},
     "output_type": "execute_result"
    }
   ],
   "source": [
    "import pandas as pd\n",
    "sales=pd.read_csv(\"sales.csv\",index_col=0)\n",
    "sales.head()"
   ]
  },
  {
   "cell_type": "code",
   "execution_count": 12,
   "metadata": {},
   "outputs": [
    {
     "name": "stdout",
     "output_type": "stream",
     "text": [
      "<class 'pandas.core.frame.DataFrame'>\n",
      "Int64Index: 50 entries, 0 to 49\n",
      "Data columns (total 9 columns):\n",
      "date                    50 non-null object\n",
      "department              50 non-null int64\n",
      "fuel_price_usd_per_l    50 non-null float64\n",
      "is_holiday              50 non-null bool\n",
      "store                   50 non-null int64\n",
      "temperature_c           50 non-null float64\n",
      "type                    50 non-null object\n",
      "unemployment            50 non-null float64\n",
      "weekly_sales            50 non-null float64\n",
      "dtypes: bool(1), float64(4), int64(2), object(2)\n",
      "memory usage: 3.6+ KB\n"
     ]
    }
   ],
   "source": [
    "sales.info()"
   ]
  },
  {
   "cell_type": "code",
   "execution_count": 13,
   "metadata": {},
   "outputs": [
    {
     "data": {
      "text/html": [
       "<div>\n",
       "<style scoped>\n",
       "    .dataframe tbody tr th:only-of-type {\n",
       "        vertical-align: middle;\n",
       "    }\n",
       "\n",
       "    .dataframe tbody tr th {\n",
       "        vertical-align: top;\n",
       "    }\n",
       "\n",
       "    .dataframe thead th {\n",
       "        text-align: right;\n",
       "    }\n",
       "</style>\n",
       "<table border=\"1\" class=\"dataframe\">\n",
       "  <thead>\n",
       "    <tr style=\"text-align: right;\">\n",
       "      <th></th>\n",
       "      <th>department</th>\n",
       "      <th>fuel_price_usd_per_l</th>\n",
       "      <th>store</th>\n",
       "      <th>temperature_c</th>\n",
       "      <th>unemployment</th>\n",
       "      <th>weekly_sales</th>\n",
       "    </tr>\n",
       "  </thead>\n",
       "  <tbody>\n",
       "    <tr>\n",
       "      <th>count</th>\n",
       "      <td>50.000000</td>\n",
       "      <td>50.000000</td>\n",
       "      <td>50.0</td>\n",
       "      <td>50.000000</td>\n",
       "      <td>50.000000</td>\n",
       "      <td>50.000000</td>\n",
       "    </tr>\n",
       "    <tr>\n",
       "      <th>mean</th>\n",
       "      <td>2.600000</td>\n",
       "      <td>0.710185</td>\n",
       "      <td>1.0</td>\n",
       "      <td>17.954333</td>\n",
       "      <td>7.864480</td>\n",
       "      <td>30426.484400</td>\n",
       "    </tr>\n",
       "    <tr>\n",
       "      <th>std</th>\n",
       "      <td>1.212183</td>\n",
       "      <td>0.029389</td>\n",
       "      <td>0.0</td>\n",
       "      <td>8.689827</td>\n",
       "      <td>0.124708</td>\n",
       "      <td>14645.631478</td>\n",
       "    </tr>\n",
       "    <tr>\n",
       "      <th>min</th>\n",
       "      <td>1.000000</td>\n",
       "      <td>0.679451</td>\n",
       "      <td>1.0</td>\n",
       "      <td>5.727778</td>\n",
       "      <td>7.742000</td>\n",
       "      <td>7857.880000</td>\n",
       "    </tr>\n",
       "    <tr>\n",
       "      <th>25%</th>\n",
       "      <td>2.000000</td>\n",
       "      <td>0.689093</td>\n",
       "      <td>1.0</td>\n",
       "      <td>9.038889</td>\n",
       "      <td>7.787000</td>\n",
       "      <td>16603.340000</td>\n",
       "    </tr>\n",
       "    <tr>\n",
       "      <th>50%</th>\n",
       "      <td>3.000000</td>\n",
       "      <td>0.705076</td>\n",
       "      <td>1.0</td>\n",
       "      <td>16.816667</td>\n",
       "      <td>7.808000</td>\n",
       "      <td>34575.665000</td>\n",
       "    </tr>\n",
       "    <tr>\n",
       "      <th>75%</th>\n",
       "      <td>4.000000</td>\n",
       "      <td>0.715378</td>\n",
       "      <td>1.0</td>\n",
       "      <td>27.050000</td>\n",
       "      <td>7.838000</td>\n",
       "      <td>42645.187500</td>\n",
       "    </tr>\n",
       "    <tr>\n",
       "      <th>max</th>\n",
       "      <td>5.000000</td>\n",
       "      <td>0.786176</td>\n",
       "      <td>1.0</td>\n",
       "      <td>30.644444</td>\n",
       "      <td>8.106000</td>\n",
       "      <td>57258.430000</td>\n",
       "    </tr>\n",
       "  </tbody>\n",
       "</table>\n",
       "</div>"
      ],
      "text/plain": [
       "       department  fuel_price_usd_per_l  store  temperature_c  unemployment  \\\n",
       "count   50.000000             50.000000   50.0      50.000000     50.000000   \n",
       "mean     2.600000              0.710185    1.0      17.954333      7.864480   \n",
       "std      1.212183              0.029389    0.0       8.689827      0.124708   \n",
       "min      1.000000              0.679451    1.0       5.727778      7.742000   \n",
       "25%      2.000000              0.689093    1.0       9.038889      7.787000   \n",
       "50%      3.000000              0.705076    1.0      16.816667      7.808000   \n",
       "75%      4.000000              0.715378    1.0      27.050000      7.838000   \n",
       "max      5.000000              0.786176    1.0      30.644444      8.106000   \n",
       "\n",
       "       weekly_sales  \n",
       "count     50.000000  \n",
       "mean   30426.484400  \n",
       "std    14645.631478  \n",
       "min     7857.880000  \n",
       "25%    16603.340000  \n",
       "50%    34575.665000  \n",
       "75%    42645.187500  \n",
       "max    57258.430000  "
      ]
     },
     "execution_count": 13,
     "metadata": {},
     "output_type": "execute_result"
    }
   ],
   "source": [
    "sales.describe()"
   ]
  },
  {
   "cell_type": "code",
   "execution_count": 15,
   "metadata": {},
   "outputs": [
    {
     "data": {
      "text/html": [
       "<div>\n",
       "<style scoped>\n",
       "    .dataframe tbody tr th:only-of-type {\n",
       "        vertical-align: middle;\n",
       "    }\n",
       "\n",
       "    .dataframe tbody tr th {\n",
       "        vertical-align: top;\n",
       "    }\n",
       "\n",
       "    .dataframe thead th {\n",
       "        text-align: right;\n",
       "    }\n",
       "</style>\n",
       "<table border=\"1\" class=\"dataframe\">\n",
       "  <thead>\n",
       "    <tr style=\"text-align: right;\">\n",
       "      <th></th>\n",
       "      <th>date</th>\n",
       "      <th>department</th>\n",
       "      <th>fuel_price_usd_per_l</th>\n",
       "      <th>is_holiday</th>\n",
       "      <th>store</th>\n",
       "      <th>temperature_c</th>\n",
       "      <th>type</th>\n",
       "      <th>unemployment</th>\n",
       "      <th>weekly_sales</th>\n",
       "    </tr>\n",
       "  </thead>\n",
       "  <tbody>\n",
       "    <tr>\n",
       "      <th>0</th>\n",
       "      <td>2010-02-05</td>\n",
       "      <td>1</td>\n",
       "      <td>0.679451</td>\n",
       "      <td>False</td>\n",
       "      <td>1</td>\n",
       "      <td>5.727778</td>\n",
       "      <td>A</td>\n",
       "      <td>8.106</td>\n",
       "      <td>24924.50</td>\n",
       "    </tr>\n",
       "    <tr>\n",
       "      <th>1</th>\n",
       "      <td>2010-03-05</td>\n",
       "      <td>1</td>\n",
       "      <td>0.693452</td>\n",
       "      <td>False</td>\n",
       "      <td>1</td>\n",
       "      <td>8.055556</td>\n",
       "      <td>A</td>\n",
       "      <td>8.106</td>\n",
       "      <td>21827.90</td>\n",
       "    </tr>\n",
       "    <tr>\n",
       "      <th>2</th>\n",
       "      <td>2010-04-02</td>\n",
       "      <td>1</td>\n",
       "      <td>0.718284</td>\n",
       "      <td>False</td>\n",
       "      <td>1</td>\n",
       "      <td>16.816667</td>\n",
       "      <td>A</td>\n",
       "      <td>7.808</td>\n",
       "      <td>57258.43</td>\n",
       "    </tr>\n",
       "    <tr>\n",
       "      <th>3</th>\n",
       "      <td>2010-05-07</td>\n",
       "      <td>1</td>\n",
       "      <td>0.748928</td>\n",
       "      <td>False</td>\n",
       "      <td>1</td>\n",
       "      <td>22.527778</td>\n",
       "      <td>A</td>\n",
       "      <td>7.808</td>\n",
       "      <td>17413.94</td>\n",
       "    </tr>\n",
       "    <tr>\n",
       "      <th>4</th>\n",
       "      <td>2010-06-04</td>\n",
       "      <td>1</td>\n",
       "      <td>0.714586</td>\n",
       "      <td>False</td>\n",
       "      <td>1</td>\n",
       "      <td>27.050000</td>\n",
       "      <td>A</td>\n",
       "      <td>7.808</td>\n",
       "      <td>17558.09</td>\n",
       "    </tr>\n",
       "  </tbody>\n",
       "</table>\n",
       "</div>"
      ],
      "text/plain": [
       "         date  department  fuel_price_usd_per_l  is_holiday  store  \\\n",
       "0  2010-02-05           1              0.679451       False      1   \n",
       "1  2010-03-05           1              0.693452       False      1   \n",
       "2  2010-04-02           1              0.718284       False      1   \n",
       "3  2010-05-07           1              0.748928       False      1   \n",
       "4  2010-06-04           1              0.714586       False      1   \n",
       "\n",
       "   temperature_c type  unemployment  weekly_sales  \n",
       "0       5.727778    A         8.106      24924.50  \n",
       "1       8.055556    A         8.106      21827.90  \n",
       "2      16.816667    A         7.808      57258.43  \n",
       "3      22.527778    A         7.808      17413.94  \n",
       "4      27.050000    A         7.808      17558.09  "
      ]
     },
     "execution_count": 15,
     "metadata": {},
     "output_type": "execute_result"
    }
   ],
   "source": [
    "sales.head()"
   ]
  },
  {
   "cell_type": "code",
   "execution_count": 16,
   "metadata": {},
   "outputs": [
    {
     "data": {
      "text/plain": [
       "department                  2.600000\n",
       "fuel_price_usd_per_l        0.710185\n",
       "is_holiday                  0.000000\n",
       "store                       1.000000\n",
       "temperature_c              17.954333\n",
       "unemployment                7.864480\n",
       "weekly_sales            30426.484400\n",
       "dtype: float64"
      ]
     },
     "execution_count": 16,
     "metadata": {},
     "output_type": "execute_result"
    }
   ],
   "source": [
    "sales.mean()"
   ]
  },
  {
   "cell_type": "code",
   "execution_count": 17,
   "metadata": {},
   "outputs": [
    {
     "data": {
      "text/plain": [
       "30426.4844"
      ]
     },
     "execution_count": 17,
     "metadata": {},
     "output_type": "execute_result"
    }
   ],
   "source": [
    "sales[\"weekly_sales\"].mean()"
   ]
  },
  {
   "cell_type": "code",
   "execution_count": 18,
   "metadata": {},
   "outputs": [
    {
     "data": {
      "text/plain": [
       "34575.66499999999"
      ]
     },
     "execution_count": 18,
     "metadata": {},
     "output_type": "execute_result"
    }
   ],
   "source": [
    "sales[\"weekly_sales\"].median()"
   ]
  },
  {
   "cell_type": "code",
   "execution_count": 19,
   "metadata": {},
   "outputs": [
    {
     "data": {
      "text/plain": [
       "'2011-01-07'"
      ]
     },
     "execution_count": 19,
     "metadata": {},
     "output_type": "execute_result"
    }
   ],
   "source": [
    "sales[\"date\"].max()"
   ]
  },
  {
   "cell_type": "code",
   "execution_count": 20,
   "metadata": {},
   "outputs": [
    {
     "data": {
      "text/plain": [
       "'2010-02-05'"
      ]
     },
     "execution_count": 20,
     "metadata": {},
     "output_type": "execute_result"
    }
   ],
   "source": [
    "sales[\"date\"].min()"
   ]
  },
  {
   "cell_type": "code",
   "execution_count": 21,
   "metadata": {},
   "outputs": [],
   "source": [
    "def iqr(column):\n",
    "    return column.quantile(0.75)- column.quantile(0.25)"
   ]
  },
  {
   "cell_type": "code",
   "execution_count": 23,
   "metadata": {},
   "outputs": [
    {
     "data": {
      "text/plain": [
       "18.011111111111106"
      ]
     },
     "execution_count": 23,
     "metadata": {},
     "output_type": "execute_result"
    }
   ],
   "source": [
    "sales[\"temperature_c\"].agg(iqr)"
   ]
  },
  {
   "cell_type": "code",
   "execution_count": 27,
   "metadata": {},
   "outputs": [
    {
     "data": {
      "text/plain": [
       "29336.162"
      ]
     },
     "execution_count": 27,
     "metadata": {},
     "output_type": "execute_result"
    }
   ],
   "source": [
    "sales[\"weekly_sales\"].quantile(0.80) - sales[\"weekly_sales\"].quantile(0.25)"
   ]
  },
  {
   "cell_type": "code",
   "execution_count": 32,
   "metadata": {},
   "outputs": [],
   "source": [
    "sales_1_1=pd.read_csv(\"sales1.csv\",index_col=0)"
   ]
  },
  {
   "cell_type": "code",
   "execution_count": 33,
   "metadata": {},
   "outputs": [
    {
     "data": {
      "text/html": [
       "<div>\n",
       "<style scoped>\n",
       "    .dataframe tbody tr th:only-of-type {\n",
       "        vertical-align: middle;\n",
       "    }\n",
       "\n",
       "    .dataframe tbody tr th {\n",
       "        vertical-align: top;\n",
       "    }\n",
       "\n",
       "    .dataframe thead th {\n",
       "        text-align: right;\n",
       "    }\n",
       "</style>\n",
       "<table border=\"1\" class=\"dataframe\">\n",
       "  <thead>\n",
       "    <tr style=\"text-align: right;\">\n",
       "      <th></th>\n",
       "      <th>date</th>\n",
       "      <th>department</th>\n",
       "      <th>fuel_price_usd_per_l</th>\n",
       "      <th>is_holiday</th>\n",
       "      <th>store</th>\n",
       "      <th>temperature_c</th>\n",
       "      <th>type</th>\n",
       "      <th>unemployment</th>\n",
       "      <th>weekly_sales</th>\n",
       "    </tr>\n",
       "  </thead>\n",
       "  <tbody>\n",
       "    <tr>\n",
       "      <th>0</th>\n",
       "      <td>2010-02-05</td>\n",
       "      <td>1</td>\n",
       "      <td>0.679451</td>\n",
       "      <td>False</td>\n",
       "      <td>1</td>\n",
       "      <td>5.727778</td>\n",
       "      <td>A</td>\n",
       "      <td>8.106</td>\n",
       "      <td>24924.50</td>\n",
       "    </tr>\n",
       "    <tr>\n",
       "      <th>1</th>\n",
       "      <td>2010-03-05</td>\n",
       "      <td>1</td>\n",
       "      <td>0.693452</td>\n",
       "      <td>False</td>\n",
       "      <td>1</td>\n",
       "      <td>8.055556</td>\n",
       "      <td>A</td>\n",
       "      <td>8.106</td>\n",
       "      <td>21827.90</td>\n",
       "    </tr>\n",
       "    <tr>\n",
       "      <th>2</th>\n",
       "      <td>2010-04-02</td>\n",
       "      <td>1</td>\n",
       "      <td>0.718284</td>\n",
       "      <td>False</td>\n",
       "      <td>1</td>\n",
       "      <td>16.816667</td>\n",
       "      <td>A</td>\n",
       "      <td>7.808</td>\n",
       "      <td>57258.43</td>\n",
       "    </tr>\n",
       "    <tr>\n",
       "      <th>3</th>\n",
       "      <td>2010-05-07</td>\n",
       "      <td>1</td>\n",
       "      <td>0.748928</td>\n",
       "      <td>False</td>\n",
       "      <td>1</td>\n",
       "      <td>22.527778</td>\n",
       "      <td>A</td>\n",
       "      <td>7.808</td>\n",
       "      <td>17413.94</td>\n",
       "    </tr>\n",
       "    <tr>\n",
       "      <th>4</th>\n",
       "      <td>2010-06-04</td>\n",
       "      <td>1</td>\n",
       "      <td>0.714586</td>\n",
       "      <td>False</td>\n",
       "      <td>1</td>\n",
       "      <td>27.050000</td>\n",
       "      <td>A</td>\n",
       "      <td>7.808</td>\n",
       "      <td>17558.09</td>\n",
       "    </tr>\n",
       "  </tbody>\n",
       "</table>\n",
       "</div>"
      ],
      "text/plain": [
       "         date  department  fuel_price_usd_per_l  is_holiday  store  \\\n",
       "0  2010-02-05           1              0.679451       False      1   \n",
       "1  2010-03-05           1              0.693452       False      1   \n",
       "2  2010-04-02           1              0.718284       False      1   \n",
       "3  2010-05-07           1              0.748928       False      1   \n",
       "4  2010-06-04           1              0.714586       False      1   \n",
       "\n",
       "   temperature_c type  unemployment  weekly_sales  \n",
       "0       5.727778    A         8.106      24924.50  \n",
       "1       8.055556    A         8.106      21827.90  \n",
       "2      16.816667    A         7.808      57258.43  \n",
       "3      22.527778    A         7.808      17413.94  \n",
       "4      27.050000    A         7.808      17558.09  "
      ]
     },
     "execution_count": 33,
     "metadata": {},
     "output_type": "execute_result"
    }
   ],
   "source": [
    "sales_1_1.head()"
   ]
  },
  {
   "cell_type": "code",
   "execution_count": 34,
   "metadata": {},
   "outputs": [],
   "source": [
    "sales_1_1=sales_1_1.sort_values(\"date\")"
   ]
  },
  {
   "cell_type": "code",
   "execution_count": 35,
   "metadata": {},
   "outputs": [],
   "source": [
    "sales_1_1[\"cum_weekly_sales\"]=sales_1_1[\"weekly_sales\"].cumsum()"
   ]
  },
  {
   "cell_type": "code",
   "execution_count": 37,
   "metadata": {},
   "outputs": [
    {
     "data": {
      "text/html": [
       "<div>\n",
       "<style scoped>\n",
       "    .dataframe tbody tr th:only-of-type {\n",
       "        vertical-align: middle;\n",
       "    }\n",
       "\n",
       "    .dataframe tbody tr th {\n",
       "        vertical-align: top;\n",
       "    }\n",
       "\n",
       "    .dataframe thead th {\n",
       "        text-align: right;\n",
       "    }\n",
       "</style>\n",
       "<table border=\"1\" class=\"dataframe\">\n",
       "  <thead>\n",
       "    <tr style=\"text-align: right;\">\n",
       "      <th></th>\n",
       "      <th>date</th>\n",
       "      <th>department</th>\n",
       "      <th>fuel_price_usd_per_l</th>\n",
       "      <th>is_holiday</th>\n",
       "      <th>store</th>\n",
       "      <th>temperature_c</th>\n",
       "      <th>type</th>\n",
       "      <th>unemployment</th>\n",
       "      <th>weekly_sales</th>\n",
       "      <th>cum_weekly_sales</th>\n",
       "    </tr>\n",
       "  </thead>\n",
       "  <tbody>\n",
       "    <tr>\n",
       "      <th>0</th>\n",
       "      <td>2010-02-05</td>\n",
       "      <td>1</td>\n",
       "      <td>0.679451</td>\n",
       "      <td>False</td>\n",
       "      <td>1</td>\n",
       "      <td>5.727778</td>\n",
       "      <td>A</td>\n",
       "      <td>8.106</td>\n",
       "      <td>24924.50</td>\n",
       "      <td>24924.50</td>\n",
       "    </tr>\n",
       "    <tr>\n",
       "      <th>1</th>\n",
       "      <td>2010-03-05</td>\n",
       "      <td>1</td>\n",
       "      <td>0.693452</td>\n",
       "      <td>False</td>\n",
       "      <td>1</td>\n",
       "      <td>8.055556</td>\n",
       "      <td>A</td>\n",
       "      <td>8.106</td>\n",
       "      <td>21827.90</td>\n",
       "      <td>46752.40</td>\n",
       "    </tr>\n",
       "    <tr>\n",
       "      <th>2</th>\n",
       "      <td>2010-04-02</td>\n",
       "      <td>1</td>\n",
       "      <td>0.718284</td>\n",
       "      <td>False</td>\n",
       "      <td>1</td>\n",
       "      <td>16.816667</td>\n",
       "      <td>A</td>\n",
       "      <td>7.808</td>\n",
       "      <td>57258.43</td>\n",
       "      <td>104010.83</td>\n",
       "    </tr>\n",
       "    <tr>\n",
       "      <th>3</th>\n",
       "      <td>2010-05-07</td>\n",
       "      <td>1</td>\n",
       "      <td>0.748928</td>\n",
       "      <td>False</td>\n",
       "      <td>1</td>\n",
       "      <td>22.527778</td>\n",
       "      <td>A</td>\n",
       "      <td>7.808</td>\n",
       "      <td>17413.94</td>\n",
       "      <td>121424.77</td>\n",
       "    </tr>\n",
       "    <tr>\n",
       "      <th>4</th>\n",
       "      <td>2010-06-04</td>\n",
       "      <td>1</td>\n",
       "      <td>0.714586</td>\n",
       "      <td>False</td>\n",
       "      <td>1</td>\n",
       "      <td>27.050000</td>\n",
       "      <td>A</td>\n",
       "      <td>7.808</td>\n",
       "      <td>17558.09</td>\n",
       "      <td>138982.86</td>\n",
       "    </tr>\n",
       "  </tbody>\n",
       "</table>\n",
       "</div>"
      ],
      "text/plain": [
       "         date  department  fuel_price_usd_per_l  is_holiday  store  \\\n",
       "0  2010-02-05           1              0.679451       False      1   \n",
       "1  2010-03-05           1              0.693452       False      1   \n",
       "2  2010-04-02           1              0.718284       False      1   \n",
       "3  2010-05-07           1              0.748928       False      1   \n",
       "4  2010-06-04           1              0.714586       False      1   \n",
       "\n",
       "   temperature_c type  unemployment  weekly_sales  cum_weekly_sales  \n",
       "0       5.727778    A         8.106      24924.50          24924.50  \n",
       "1       8.055556    A         8.106      21827.90          46752.40  \n",
       "2      16.816667    A         7.808      57258.43         104010.83  \n",
       "3      22.527778    A         7.808      17413.94         121424.77  \n",
       "4      27.050000    A         7.808      17558.09         138982.86  "
      ]
     },
     "execution_count": 37,
     "metadata": {},
     "output_type": "execute_result"
    }
   ],
   "source": [
    "sales_1_1.head()"
   ]
  },
  {
   "cell_type": "code",
   "execution_count": 38,
   "metadata": {},
   "outputs": [],
   "source": [
    "sales_1_1[\"cum_max_sales\"]=sales_1_1[\"weekly_sales\"].cummax()"
   ]
  },
  {
   "cell_type": "code",
   "execution_count": 39,
   "metadata": {},
   "outputs": [
    {
     "data": {
      "text/html": [
       "<div>\n",
       "<style scoped>\n",
       "    .dataframe tbody tr th:only-of-type {\n",
       "        vertical-align: middle;\n",
       "    }\n",
       "\n",
       "    .dataframe tbody tr th {\n",
       "        vertical-align: top;\n",
       "    }\n",
       "\n",
       "    .dataframe thead th {\n",
       "        text-align: right;\n",
       "    }\n",
       "</style>\n",
       "<table border=\"1\" class=\"dataframe\">\n",
       "  <thead>\n",
       "    <tr style=\"text-align: right;\">\n",
       "      <th></th>\n",
       "      <th>date</th>\n",
       "      <th>department</th>\n",
       "      <th>fuel_price_usd_per_l</th>\n",
       "      <th>is_holiday</th>\n",
       "      <th>store</th>\n",
       "      <th>temperature_c</th>\n",
       "      <th>type</th>\n",
       "      <th>unemployment</th>\n",
       "      <th>weekly_sales</th>\n",
       "      <th>cum_weekly_sales</th>\n",
       "      <th>cum_max_sales</th>\n",
       "    </tr>\n",
       "  </thead>\n",
       "  <tbody>\n",
       "    <tr>\n",
       "      <th>0</th>\n",
       "      <td>2010-02-05</td>\n",
       "      <td>1</td>\n",
       "      <td>0.679451</td>\n",
       "      <td>False</td>\n",
       "      <td>1</td>\n",
       "      <td>5.727778</td>\n",
       "      <td>A</td>\n",
       "      <td>8.106</td>\n",
       "      <td>24924.50</td>\n",
       "      <td>24924.50</td>\n",
       "      <td>24924.50</td>\n",
       "    </tr>\n",
       "    <tr>\n",
       "      <th>1</th>\n",
       "      <td>2010-03-05</td>\n",
       "      <td>1</td>\n",
       "      <td>0.693452</td>\n",
       "      <td>False</td>\n",
       "      <td>1</td>\n",
       "      <td>8.055556</td>\n",
       "      <td>A</td>\n",
       "      <td>8.106</td>\n",
       "      <td>21827.90</td>\n",
       "      <td>46752.40</td>\n",
       "      <td>24924.50</td>\n",
       "    </tr>\n",
       "    <tr>\n",
       "      <th>2</th>\n",
       "      <td>2010-04-02</td>\n",
       "      <td>1</td>\n",
       "      <td>0.718284</td>\n",
       "      <td>False</td>\n",
       "      <td>1</td>\n",
       "      <td>16.816667</td>\n",
       "      <td>A</td>\n",
       "      <td>7.808</td>\n",
       "      <td>57258.43</td>\n",
       "      <td>104010.83</td>\n",
       "      <td>57258.43</td>\n",
       "    </tr>\n",
       "    <tr>\n",
       "      <th>3</th>\n",
       "      <td>2010-05-07</td>\n",
       "      <td>1</td>\n",
       "      <td>0.748928</td>\n",
       "      <td>False</td>\n",
       "      <td>1</td>\n",
       "      <td>22.527778</td>\n",
       "      <td>A</td>\n",
       "      <td>7.808</td>\n",
       "      <td>17413.94</td>\n",
       "      <td>121424.77</td>\n",
       "      <td>57258.43</td>\n",
       "    </tr>\n",
       "    <tr>\n",
       "      <th>4</th>\n",
       "      <td>2010-06-04</td>\n",
       "      <td>1</td>\n",
       "      <td>0.714586</td>\n",
       "      <td>False</td>\n",
       "      <td>1</td>\n",
       "      <td>27.050000</td>\n",
       "      <td>A</td>\n",
       "      <td>7.808</td>\n",
       "      <td>17558.09</td>\n",
       "      <td>138982.86</td>\n",
       "      <td>57258.43</td>\n",
       "    </tr>\n",
       "  </tbody>\n",
       "</table>\n",
       "</div>"
      ],
      "text/plain": [
       "         date  department  fuel_price_usd_per_l  is_holiday  store  \\\n",
       "0  2010-02-05           1              0.679451       False      1   \n",
       "1  2010-03-05           1              0.693452       False      1   \n",
       "2  2010-04-02           1              0.718284       False      1   \n",
       "3  2010-05-07           1              0.748928       False      1   \n",
       "4  2010-06-04           1              0.714586       False      1   \n",
       "\n",
       "   temperature_c type  unemployment  weekly_sales  cum_weekly_sales  \\\n",
       "0       5.727778    A         8.106      24924.50          24924.50   \n",
       "1       8.055556    A         8.106      21827.90          46752.40   \n",
       "2      16.816667    A         7.808      57258.43         104010.83   \n",
       "3      22.527778    A         7.808      17413.94         121424.77   \n",
       "4      27.050000    A         7.808      17558.09         138982.86   \n",
       "\n",
       "   cum_max_sales  \n",
       "0       24924.50  \n",
       "1       24924.50  \n",
       "2       57258.43  \n",
       "3       57258.43  \n",
       "4       57258.43  "
      ]
     },
     "execution_count": 39,
     "metadata": {},
     "output_type": "execute_result"
    }
   ],
   "source": [
    "sales_1_1.head()"
   ]
  },
  {
   "cell_type": "code",
   "execution_count": 40,
   "metadata": {},
   "outputs": [
    {
     "data": {
      "text/html": [
       "<div>\n",
       "<style scoped>\n",
       "    .dataframe tbody tr th:only-of-type {\n",
       "        vertical-align: middle;\n",
       "    }\n",
       "\n",
       "    .dataframe tbody tr th {\n",
       "        vertical-align: top;\n",
       "    }\n",
       "\n",
       "    .dataframe thead th {\n",
       "        text-align: right;\n",
       "    }\n",
       "</style>\n",
       "<table border=\"1\" class=\"dataframe\">\n",
       "  <thead>\n",
       "    <tr style=\"text-align: right;\">\n",
       "      <th></th>\n",
       "      <th>date</th>\n",
       "      <th>department</th>\n",
       "      <th>fuel_price_usd_per_l</th>\n",
       "      <th>is_holiday</th>\n",
       "      <th>store</th>\n",
       "      <th>temperature_c</th>\n",
       "      <th>type</th>\n",
       "      <th>unemployment</th>\n",
       "      <th>weekly_sales</th>\n",
       "    </tr>\n",
       "  </thead>\n",
       "  <tbody>\n",
       "    <tr>\n",
       "      <th>0</th>\n",
       "      <td>2010-02-05</td>\n",
       "      <td>1</td>\n",
       "      <td>0.679451</td>\n",
       "      <td>False</td>\n",
       "      <td>1</td>\n",
       "      <td>5.727778</td>\n",
       "      <td>A</td>\n",
       "      <td>8.106</td>\n",
       "      <td>24924.50</td>\n",
       "    </tr>\n",
       "    <tr>\n",
       "      <th>1</th>\n",
       "      <td>2010-03-05</td>\n",
       "      <td>1</td>\n",
       "      <td>0.693452</td>\n",
       "      <td>False</td>\n",
       "      <td>1</td>\n",
       "      <td>8.055556</td>\n",
       "      <td>A</td>\n",
       "      <td>8.106</td>\n",
       "      <td>21827.90</td>\n",
       "    </tr>\n",
       "    <tr>\n",
       "      <th>2</th>\n",
       "      <td>2010-04-02</td>\n",
       "      <td>1</td>\n",
       "      <td>0.718284</td>\n",
       "      <td>False</td>\n",
       "      <td>1</td>\n",
       "      <td>16.816667</td>\n",
       "      <td>A</td>\n",
       "      <td>7.808</td>\n",
       "      <td>57258.43</td>\n",
       "    </tr>\n",
       "    <tr>\n",
       "      <th>3</th>\n",
       "      <td>2010-05-07</td>\n",
       "      <td>1</td>\n",
       "      <td>0.748928</td>\n",
       "      <td>False</td>\n",
       "      <td>1</td>\n",
       "      <td>22.527778</td>\n",
       "      <td>A</td>\n",
       "      <td>7.808</td>\n",
       "      <td>17413.94</td>\n",
       "    </tr>\n",
       "    <tr>\n",
       "      <th>4</th>\n",
       "      <td>2010-06-04</td>\n",
       "      <td>1</td>\n",
       "      <td>0.714586</td>\n",
       "      <td>False</td>\n",
       "      <td>1</td>\n",
       "      <td>27.050000</td>\n",
       "      <td>A</td>\n",
       "      <td>7.808</td>\n",
       "      <td>17558.09</td>\n",
       "    </tr>\n",
       "  </tbody>\n",
       "</table>\n",
       "</div>"
      ],
      "text/plain": [
       "         date  department  fuel_price_usd_per_l  is_holiday  store  \\\n",
       "0  2010-02-05           1              0.679451       False      1   \n",
       "1  2010-03-05           1              0.693452       False      1   \n",
       "2  2010-04-02           1              0.718284       False      1   \n",
       "3  2010-05-07           1              0.748928       False      1   \n",
       "4  2010-06-04           1              0.714586       False      1   \n",
       "\n",
       "   temperature_c type  unemployment  weekly_sales  \n",
       "0       5.727778    A         8.106      24924.50  \n",
       "1       8.055556    A         8.106      21827.90  \n",
       "2      16.816667    A         7.808      57258.43  \n",
       "3      22.527778    A         7.808      17413.94  \n",
       "4      27.050000    A         7.808      17558.09  "
      ]
     },
     "execution_count": 40,
     "metadata": {},
     "output_type": "execute_result"
    }
   ],
   "source": [
    "sales.head()"
   ]
  },
  {
   "cell_type": "code",
   "execution_count": 41,
   "metadata": {},
   "outputs": [],
   "source": [
    "store_types=sales.drop_duplicates(subset=[\"store\",\"type\"])"
   ]
  },
  {
   "cell_type": "code",
   "execution_count": 42,
   "metadata": {},
   "outputs": [],
   "source": [
    "store_depts=sales.drop_duplicates(subset=[\"store\",\"department\"])"
   ]
  },
  {
   "cell_type": "code",
   "execution_count": 43,
   "metadata": {},
   "outputs": [
    {
     "data": {
      "text/html": [
       "<div>\n",
       "<style scoped>\n",
       "    .dataframe tbody tr th:only-of-type {\n",
       "        vertical-align: middle;\n",
       "    }\n",
       "\n",
       "    .dataframe tbody tr th {\n",
       "        vertical-align: top;\n",
       "    }\n",
       "\n",
       "    .dataframe thead th {\n",
       "        text-align: right;\n",
       "    }\n",
       "</style>\n",
       "<table border=\"1\" class=\"dataframe\">\n",
       "  <thead>\n",
       "    <tr style=\"text-align: right;\">\n",
       "      <th></th>\n",
       "      <th>date</th>\n",
       "      <th>department</th>\n",
       "      <th>fuel_price_usd_per_l</th>\n",
       "      <th>is_holiday</th>\n",
       "      <th>store</th>\n",
       "      <th>temperature_c</th>\n",
       "      <th>type</th>\n",
       "      <th>unemployment</th>\n",
       "      <th>weekly_sales</th>\n",
       "    </tr>\n",
       "  </thead>\n",
       "  <tbody>\n",
       "    <tr>\n",
       "      <th>0</th>\n",
       "      <td>2010-02-05</td>\n",
       "      <td>1</td>\n",
       "      <td>0.679451</td>\n",
       "      <td>False</td>\n",
       "      <td>1</td>\n",
       "      <td>5.727778</td>\n",
       "      <td>A</td>\n",
       "      <td>8.106</td>\n",
       "      <td>24924.50</td>\n",
       "    </tr>\n",
       "    <tr>\n",
       "      <th>12</th>\n",
       "      <td>2010-02-05</td>\n",
       "      <td>2</td>\n",
       "      <td>0.679451</td>\n",
       "      <td>False</td>\n",
       "      <td>1</td>\n",
       "      <td>5.727778</td>\n",
       "      <td>A</td>\n",
       "      <td>8.106</td>\n",
       "      <td>50605.27</td>\n",
       "    </tr>\n",
       "    <tr>\n",
       "      <th>24</th>\n",
       "      <td>2010-02-05</td>\n",
       "      <td>3</td>\n",
       "      <td>0.679451</td>\n",
       "      <td>False</td>\n",
       "      <td>1</td>\n",
       "      <td>5.727778</td>\n",
       "      <td>A</td>\n",
       "      <td>8.106</td>\n",
       "      <td>13740.12</td>\n",
       "    </tr>\n",
       "    <tr>\n",
       "      <th>36</th>\n",
       "      <td>2010-02-05</td>\n",
       "      <td>4</td>\n",
       "      <td>0.679451</td>\n",
       "      <td>False</td>\n",
       "      <td>1</td>\n",
       "      <td>5.727778</td>\n",
       "      <td>A</td>\n",
       "      <td>8.106</td>\n",
       "      <td>39954.04</td>\n",
       "    </tr>\n",
       "    <tr>\n",
       "      <th>48</th>\n",
       "      <td>2010-02-05</td>\n",
       "      <td>5</td>\n",
       "      <td>0.679451</td>\n",
       "      <td>False</td>\n",
       "      <td>1</td>\n",
       "      <td>5.727778</td>\n",
       "      <td>A</td>\n",
       "      <td>8.106</td>\n",
       "      <td>32229.38</td>\n",
       "    </tr>\n",
       "  </tbody>\n",
       "</table>\n",
       "</div>"
      ],
      "text/plain": [
       "          date  department  fuel_price_usd_per_l  is_holiday  store  \\\n",
       "0   2010-02-05           1              0.679451       False      1   \n",
       "12  2010-02-05           2              0.679451       False      1   \n",
       "24  2010-02-05           3              0.679451       False      1   \n",
       "36  2010-02-05           4              0.679451       False      1   \n",
       "48  2010-02-05           5              0.679451       False      1   \n",
       "\n",
       "    temperature_c type  unemployment  weekly_sales  \n",
       "0        5.727778    A         8.106      24924.50  \n",
       "12       5.727778    A         8.106      50605.27  \n",
       "24       5.727778    A         8.106      13740.12  \n",
       "36       5.727778    A         8.106      39954.04  \n",
       "48       5.727778    A         8.106      32229.38  "
      ]
     },
     "execution_count": 43,
     "metadata": {},
     "output_type": "execute_result"
    }
   ],
   "source": [
    "store_depts.head()"
   ]
  },
  {
   "cell_type": "code",
   "execution_count": 47,
   "metadata": {},
   "outputs": [
    {
     "data": {
      "text/html": [
       "<div>\n",
       "<style scoped>\n",
       "    .dataframe tbody tr th:only-of-type {\n",
       "        vertical-align: middle;\n",
       "    }\n",
       "\n",
       "    .dataframe tbody tr th {\n",
       "        vertical-align: top;\n",
       "    }\n",
       "\n",
       "    .dataframe thead th {\n",
       "        text-align: right;\n",
       "    }\n",
       "</style>\n",
       "<table border=\"1\" class=\"dataframe\">\n",
       "  <thead>\n",
       "    <tr style=\"text-align: right;\">\n",
       "      <th></th>\n",
       "      <th>date</th>\n",
       "      <th>department</th>\n",
       "      <th>fuel_price_usd_per_l</th>\n",
       "      <th>is_holiday</th>\n",
       "      <th>store</th>\n",
       "      <th>temperature_c</th>\n",
       "      <th>type</th>\n",
       "      <th>unemployment</th>\n",
       "      <th>weekly_sales</th>\n",
       "    </tr>\n",
       "  </thead>\n",
       "  <tbody>\n",
       "  </tbody>\n",
       "</table>\n",
       "</div>"
      ],
      "text/plain": [
       "Empty DataFrame\n",
       "Columns: [date, department, fuel_price_usd_per_l, is_holiday, store, temperature_c, type, unemployment, weekly_sales]\n",
       "Index: []"
      ]
     },
     "execution_count": 47,
     "metadata": {},
     "output_type": "execute_result"
    }
   ],
   "source": [
    "sales[sales[\"is_holiday\"]].drop_duplicates(subset=\"date\")"
   ]
  },
  {
   "cell_type": "code",
   "execution_count": 49,
   "metadata": {},
   "outputs": [
    {
     "data": {
      "text/plain": [
       "A    50\n",
       "Name: type, dtype: int64"
      ]
     },
     "execution_count": 49,
     "metadata": {},
     "output_type": "execute_result"
    }
   ],
   "source": [
    "sales[\"type\"].value_counts()"
   ]
  },
  {
   "cell_type": "code",
   "execution_count": 50,
   "metadata": {},
   "outputs": [
    {
     "data": {
      "text/plain": [
       "A    1.0\n",
       "Name: type, dtype: float64"
      ]
     },
     "execution_count": 50,
     "metadata": {},
     "output_type": "execute_result"
    }
   ],
   "source": [
    "sales[\"type\"].value_counts(normalize=True)"
   ]
  },
  {
   "cell_type": "code",
   "execution_count": 57,
   "metadata": {},
   "outputs": [
    {
     "data": {
      "text/plain": [
       "1    12\n",
       "2    12\n",
       "3    12\n",
       "4    12\n",
       "5     2\n",
       "Name: department, dtype: int64"
      ]
     },
     "execution_count": 57,
     "metadata": {},
     "output_type": "execute_result"
    }
   ],
   "source": [
    "sales[\"department\"].value_counts(sort=False)"
   ]
  },
  {
   "cell_type": "code",
   "execution_count": 58,
   "metadata": {},
   "outputs": [
    {
     "data": {
      "text/plain": [
       "1    0.24\n",
       "2    0.24\n",
       "3    0.24\n",
       "4    0.24\n",
       "5    0.04\n",
       "Name: department, dtype: float64"
      ]
     },
     "execution_count": 58,
     "metadata": {},
     "output_type": "execute_result"
    }
   ],
   "source": [
    "sales[\"department\"].value_counts(sort=False,normalize=True)"
   ]
  },
  {
   "cell_type": "code",
   "execution_count": 59,
   "metadata": {},
   "outputs": [
    {
     "data": {
      "text/html": [
       "<div>\n",
       "<style scoped>\n",
       "    .dataframe tbody tr th:only-of-type {\n",
       "        vertical-align: middle;\n",
       "    }\n",
       "\n",
       "    .dataframe tbody tr th {\n",
       "        vertical-align: top;\n",
       "    }\n",
       "\n",
       "    .dataframe thead th {\n",
       "        text-align: right;\n",
       "    }\n",
       "</style>\n",
       "<table border=\"1\" class=\"dataframe\">\n",
       "  <thead>\n",
       "    <tr style=\"text-align: right;\">\n",
       "      <th></th>\n",
       "      <th>date</th>\n",
       "      <th>department</th>\n",
       "      <th>fuel_price_usd_per_l</th>\n",
       "      <th>is_holiday</th>\n",
       "      <th>store</th>\n",
       "      <th>temperature_c</th>\n",
       "      <th>type</th>\n",
       "      <th>unemployment</th>\n",
       "      <th>weekly_sales</th>\n",
       "    </tr>\n",
       "  </thead>\n",
       "  <tbody>\n",
       "    <tr>\n",
       "      <th>0</th>\n",
       "      <td>2010-02-05</td>\n",
       "      <td>1</td>\n",
       "      <td>0.679451</td>\n",
       "      <td>False</td>\n",
       "      <td>1</td>\n",
       "      <td>5.727778</td>\n",
       "      <td>A</td>\n",
       "      <td>8.106</td>\n",
       "      <td>24924.50</td>\n",
       "    </tr>\n",
       "    <tr>\n",
       "      <th>1</th>\n",
       "      <td>2010-03-05</td>\n",
       "      <td>1</td>\n",
       "      <td>0.693452</td>\n",
       "      <td>False</td>\n",
       "      <td>1</td>\n",
       "      <td>8.055556</td>\n",
       "      <td>A</td>\n",
       "      <td>8.106</td>\n",
       "      <td>21827.90</td>\n",
       "    </tr>\n",
       "    <tr>\n",
       "      <th>2</th>\n",
       "      <td>2010-04-02</td>\n",
       "      <td>1</td>\n",
       "      <td>0.718284</td>\n",
       "      <td>False</td>\n",
       "      <td>1</td>\n",
       "      <td>16.816667</td>\n",
       "      <td>A</td>\n",
       "      <td>7.808</td>\n",
       "      <td>57258.43</td>\n",
       "    </tr>\n",
       "    <tr>\n",
       "      <th>3</th>\n",
       "      <td>2010-05-07</td>\n",
       "      <td>1</td>\n",
       "      <td>0.748928</td>\n",
       "      <td>False</td>\n",
       "      <td>1</td>\n",
       "      <td>22.527778</td>\n",
       "      <td>A</td>\n",
       "      <td>7.808</td>\n",
       "      <td>17413.94</td>\n",
       "    </tr>\n",
       "    <tr>\n",
       "      <th>4</th>\n",
       "      <td>2010-06-04</td>\n",
       "      <td>1</td>\n",
       "      <td>0.714586</td>\n",
       "      <td>False</td>\n",
       "      <td>1</td>\n",
       "      <td>27.050000</td>\n",
       "      <td>A</td>\n",
       "      <td>7.808</td>\n",
       "      <td>17558.09</td>\n",
       "    </tr>\n",
       "  </tbody>\n",
       "</table>\n",
       "</div>"
      ],
      "text/plain": [
       "         date  department  fuel_price_usd_per_l  is_holiday  store  \\\n",
       "0  2010-02-05           1              0.679451       False      1   \n",
       "1  2010-03-05           1              0.693452       False      1   \n",
       "2  2010-04-02           1              0.718284       False      1   \n",
       "3  2010-05-07           1              0.748928       False      1   \n",
       "4  2010-06-04           1              0.714586       False      1   \n",
       "\n",
       "   temperature_c type  unemployment  weekly_sales  \n",
       "0       5.727778    A         8.106      24924.50  \n",
       "1       8.055556    A         8.106      21827.90  \n",
       "2      16.816667    A         7.808      57258.43  \n",
       "3      22.527778    A         7.808      17413.94  \n",
       "4      27.050000    A         7.808      17558.09  "
      ]
     },
     "execution_count": 59,
     "metadata": {},
     "output_type": "execute_result"
    }
   ],
   "source": [
    "sales.head()"
   ]
  },
  {
   "cell_type": "code",
   "execution_count": 74,
   "metadata": {},
   "outputs": [],
   "source": [
    "sales_all=sales[\"weekly_sales\"].sum()"
   ]
  },
  {
   "cell_type": "code",
   "execution_count": 66,
   "metadata": {},
   "outputs": [],
   "source": [
    "sales_A=sales[sales[\"type\"]==\"A\"][\"weekly_sales\"].sum()"
   ]
  },
  {
   "cell_type": "code",
   "execution_count": 67,
   "metadata": {},
   "outputs": [
    {
     "name": "stdout",
     "output_type": "stream",
     "text": [
      "1521324.2199999997\n"
     ]
    }
   ],
   "source": [
    "print(sales_A)"
   ]
  },
  {
   "cell_type": "code",
   "execution_count": 68,
   "metadata": {},
   "outputs": [],
   "source": [
    "sales_B=sales[sales[\"type\"]==\"B\"][\"weekly_sales\"].sum()"
   ]
  },
  {
   "cell_type": "code",
   "execution_count": 69,
   "metadata": {},
   "outputs": [
    {
     "name": "stdout",
     "output_type": "stream",
     "text": [
      "0.0\n"
     ]
    }
   ],
   "source": [
    "print(sales_B)"
   ]
  },
  {
   "cell_type": "code",
   "execution_count": 71,
   "metadata": {},
   "outputs": [],
   "source": [
    "sales_C=sales[sales[\"type\"]==\"C\"][\"weekly_sales\"].sum()"
   ]
  },
  {
   "cell_type": "code",
   "execution_count": 72,
   "metadata": {},
   "outputs": [
    {
     "name": "stdout",
     "output_type": "stream",
     "text": [
      "0.0\n"
     ]
    }
   ],
   "source": [
    "print(sales_C)"
   ]
  },
  {
   "cell_type": "code",
   "execution_count": 75,
   "metadata": {},
   "outputs": [
    {
     "data": {
      "text/plain": [
       "array([1., 0., 0.])"
      ]
     },
     "execution_count": 75,
     "metadata": {},
     "output_type": "execute_result"
    }
   ],
   "source": [
    "[sales_A,sales_B,sales_C]/sales_all"
   ]
  },
  {
   "cell_type": "code",
   "execution_count": 79,
   "metadata": {},
   "outputs": [],
   "source": [
    "sales_by_type=sales.groupby(\"type\")[\"weekly_sales\"].sum()"
   ]
  },
  {
   "cell_type": "code",
   "execution_count": 80,
   "metadata": {},
   "outputs": [
    {
     "data": {
      "text/plain": [
       "type\n",
       "A    1521324.22\n",
       "Name: weekly_sales, dtype: float64"
      ]
     },
     "execution_count": 80,
     "metadata": {},
     "output_type": "execute_result"
    }
   ],
   "source": [
    "sales_by_type"
   ]
  },
  {
   "cell_type": "code",
   "execution_count": 81,
   "metadata": {},
   "outputs": [
    {
     "data": {
      "text/plain": [
       "type\n",
       "A    1.0\n",
       "Name: weekly_sales, dtype: float64"
      ]
     },
     "execution_count": 81,
     "metadata": {},
     "output_type": "execute_result"
    }
   ],
   "source": [
    "sales_by_type/sum(sales_by_type)"
   ]
  },
  {
   "cell_type": "code",
   "execution_count": 82,
   "metadata": {},
   "outputs": [
    {
     "data": {
      "text/plain": [
       "type  is_holiday\n",
       "A     False         1521324.22\n",
       "Name: weekly_sales, dtype: float64"
      ]
     },
     "execution_count": 82,
     "metadata": {},
     "output_type": "execute_result"
    }
   ],
   "source": [
    "sales.groupby([\"type\",\"is_holiday\"])[\"weekly_sales\"].sum()"
   ]
  },
  {
   "cell_type": "code",
   "execution_count": 83,
   "metadata": {},
   "outputs": [
    {
     "data": {
      "text/html": [
       "<div>\n",
       "<style scoped>\n",
       "    .dataframe tbody tr th:only-of-type {\n",
       "        vertical-align: middle;\n",
       "    }\n",
       "\n",
       "    .dataframe tbody tr th {\n",
       "        vertical-align: top;\n",
       "    }\n",
       "\n",
       "    .dataframe thead th {\n",
       "        text-align: right;\n",
       "    }\n",
       "</style>\n",
       "<table border=\"1\" class=\"dataframe\">\n",
       "  <thead>\n",
       "    <tr style=\"text-align: right;\">\n",
       "      <th></th>\n",
       "      <th></th>\n",
       "      <th>amin</th>\n",
       "      <th>amax</th>\n",
       "      <th>mean</th>\n",
       "      <th>median</th>\n",
       "    </tr>\n",
       "    <tr>\n",
       "      <th>type</th>\n",
       "      <th>is_holiday</th>\n",
       "      <th></th>\n",
       "      <th></th>\n",
       "      <th></th>\n",
       "      <th></th>\n",
       "    </tr>\n",
       "  </thead>\n",
       "  <tbody>\n",
       "    <tr>\n",
       "      <th>A</th>\n",
       "      <th>False</th>\n",
       "      <td>7857.88</td>\n",
       "      <td>57258.43</td>\n",
       "      <td>30426.4844</td>\n",
       "      <td>34575.665</td>\n",
       "    </tr>\n",
       "  </tbody>\n",
       "</table>\n",
       "</div>"
      ],
      "text/plain": [
       "                    amin      amax        mean     median\n",
       "type is_holiday                                          \n",
       "A    False       7857.88  57258.43  30426.4844  34575.665"
      ]
     },
     "execution_count": 83,
     "metadata": {},
     "output_type": "execute_result"
    }
   ],
   "source": [
    "sales.groupby([\"type\",\"is_holiday\"])[\"weekly_sales\"].agg([np.min,np.max,np.mean,np.median])"
   ]
  },
  {
   "cell_type": "code",
   "execution_count": 84,
   "metadata": {},
   "outputs": [
    {
     "data": {
      "text/html": [
       "<div>\n",
       "<style scoped>\n",
       "    .dataframe tbody tr th:only-of-type {\n",
       "        vertical-align: middle;\n",
       "    }\n",
       "\n",
       "    .dataframe tbody tr th {\n",
       "        vertical-align: top;\n",
       "    }\n",
       "\n",
       "    .dataframe thead tr th {\n",
       "        text-align: left;\n",
       "    }\n",
       "\n",
       "    .dataframe thead tr:last-of-type th {\n",
       "        text-align: right;\n",
       "    }\n",
       "</style>\n",
       "<table border=\"1\" class=\"dataframe\">\n",
       "  <thead>\n",
       "    <tr>\n",
       "      <th></th>\n",
       "      <th></th>\n",
       "      <th colspan=\"4\" halign=\"left\">weekly_sales</th>\n",
       "      <th colspan=\"4\" halign=\"left\">fuel_price_usd_per_l</th>\n",
       "    </tr>\n",
       "    <tr>\n",
       "      <th></th>\n",
       "      <th></th>\n",
       "      <th>amin</th>\n",
       "      <th>amax</th>\n",
       "      <th>mean</th>\n",
       "      <th>median</th>\n",
       "      <th>amin</th>\n",
       "      <th>amax</th>\n",
       "      <th>mean</th>\n",
       "      <th>median</th>\n",
       "    </tr>\n",
       "    <tr>\n",
       "      <th>type</th>\n",
       "      <th>is_holiday</th>\n",
       "      <th></th>\n",
       "      <th></th>\n",
       "      <th></th>\n",
       "      <th></th>\n",
       "      <th></th>\n",
       "      <th></th>\n",
       "      <th></th>\n",
       "      <th></th>\n",
       "    </tr>\n",
       "  </thead>\n",
       "  <tbody>\n",
       "    <tr>\n",
       "      <th>A</th>\n",
       "      <th>False</th>\n",
       "      <td>7857.88</td>\n",
       "      <td>57258.43</td>\n",
       "      <td>30426.4844</td>\n",
       "      <td>34575.665</td>\n",
       "      <td>0.679451</td>\n",
       "      <td>0.786176</td>\n",
       "      <td>0.710185</td>\n",
       "      <td>0.705076</td>\n",
       "    </tr>\n",
       "  </tbody>\n",
       "</table>\n",
       "</div>"
      ],
      "text/plain": [
       "                weekly_sales                                   \\\n",
       "                        amin      amax        mean     median   \n",
       "type is_holiday                                                 \n",
       "A    False           7857.88  57258.43  30426.4844  34575.665   \n",
       "\n",
       "                fuel_price_usd_per_l                                \n",
       "                                amin      amax      mean    median  \n",
       "type is_holiday                                                     \n",
       "A    False                  0.679451  0.786176  0.710185  0.705076  "
      ]
     },
     "execution_count": 84,
     "metadata": {},
     "output_type": "execute_result"
    }
   ],
   "source": [
    "sales.groupby([\"type\",\"is_holiday\"])[\"weekly_sales\",\"fuel_price_usd_per_l\"].agg([np.min,np.max,np.mean,np.median])"
   ]
  },
  {
   "cell_type": "code",
   "execution_count": 85,
   "metadata": {},
   "outputs": [
    {
     "data": {
      "text/html": [
       "<div>\n",
       "<style scoped>\n",
       "    .dataframe tbody tr th:only-of-type {\n",
       "        vertical-align: middle;\n",
       "    }\n",
       "\n",
       "    .dataframe tbody tr th {\n",
       "        vertical-align: top;\n",
       "    }\n",
       "\n",
       "    .dataframe thead th {\n",
       "        text-align: right;\n",
       "    }\n",
       "</style>\n",
       "<table border=\"1\" class=\"dataframe\">\n",
       "  <thead>\n",
       "    <tr style=\"text-align: right;\">\n",
       "      <th></th>\n",
       "      <th>weekly_sales</th>\n",
       "    </tr>\n",
       "    <tr>\n",
       "      <th>type</th>\n",
       "      <th></th>\n",
       "    </tr>\n",
       "  </thead>\n",
       "  <tbody>\n",
       "    <tr>\n",
       "      <th>A</th>\n",
       "      <td>30426.4844</td>\n",
       "    </tr>\n",
       "  </tbody>\n",
       "</table>\n",
       "</div>"
      ],
      "text/plain": [
       "      weekly_sales\n",
       "type              \n",
       "A       30426.4844"
      ]
     },
     "execution_count": 85,
     "metadata": {},
     "output_type": "execute_result"
    }
   ],
   "source": [
    "sales.pivot_table(index=\"type\",values=\"weekly_sales\")"
   ]
  },
  {
   "cell_type": "code",
   "execution_count": 90,
   "metadata": {},
   "outputs": [
    {
     "data": {
      "text/plain": [
       "type  is_holiday\n",
       "A     False         30426.4844\n",
       "Name: weekly_sales, dtype: float64"
      ]
     },
     "execution_count": 90,
     "metadata": {},
     "output_type": "execute_result"
    }
   ],
   "source": [
    "sales.groupby([\"type\",\"is_holiday\"])[\"weekly_sales\"].mean()"
   ]
  },
  {
   "cell_type": "code",
   "execution_count": 87,
   "metadata": {},
   "outputs": [],
   "source": [
    "import numpy as np"
   ]
  },
  {
   "cell_type": "code",
   "execution_count": 88,
   "metadata": {},
   "outputs": [
    {
     "data": {
      "text/html": [
       "<div>\n",
       "<style scoped>\n",
       "    .dataframe tbody tr th:only-of-type {\n",
       "        vertical-align: middle;\n",
       "    }\n",
       "\n",
       "    .dataframe tbody tr th {\n",
       "        vertical-align: top;\n",
       "    }\n",
       "\n",
       "    .dataframe thead tr th {\n",
       "        text-align: left;\n",
       "    }\n",
       "\n",
       "    .dataframe thead tr:last-of-type th {\n",
       "        text-align: right;\n",
       "    }\n",
       "</style>\n",
       "<table border=\"1\" class=\"dataframe\">\n",
       "  <thead>\n",
       "    <tr>\n",
       "      <th></th>\n",
       "      <th>mean</th>\n",
       "      <th>median</th>\n",
       "    </tr>\n",
       "    <tr>\n",
       "      <th></th>\n",
       "      <th>weekly_sales</th>\n",
       "      <th>weekly_sales</th>\n",
       "    </tr>\n",
       "    <tr>\n",
       "      <th>type</th>\n",
       "      <th></th>\n",
       "      <th></th>\n",
       "    </tr>\n",
       "  </thead>\n",
       "  <tbody>\n",
       "    <tr>\n",
       "      <th>A</th>\n",
       "      <td>30426.4844</td>\n",
       "      <td>34575.665</td>\n",
       "    </tr>\n",
       "  </tbody>\n",
       "</table>\n",
       "</div>"
      ],
      "text/plain": [
       "             mean       median\n",
       "     weekly_sales weekly_sales\n",
       "type                          \n",
       "A      30426.4844    34575.665"
      ]
     },
     "execution_count": 88,
     "metadata": {},
     "output_type": "execute_result"
    }
   ],
   "source": [
    "sales.pivot_table(index=\"type\",values=\"weekly_sales\",aggfunc=[np.mean,np.median])"
   ]
  },
  {
   "cell_type": "code",
   "execution_count": 89,
   "metadata": {},
   "outputs": [
    {
     "data": {
      "text/html": [
       "<div>\n",
       "<style scoped>\n",
       "    .dataframe tbody tr th:only-of-type {\n",
       "        vertical-align: middle;\n",
       "    }\n",
       "\n",
       "    .dataframe tbody tr th {\n",
       "        vertical-align: top;\n",
       "    }\n",
       "\n",
       "    .dataframe thead th {\n",
       "        text-align: right;\n",
       "    }\n",
       "</style>\n",
       "<table border=\"1\" class=\"dataframe\">\n",
       "  <thead>\n",
       "    <tr style=\"text-align: right;\">\n",
       "      <th>is_holiday</th>\n",
       "      <th>False</th>\n",
       "    </tr>\n",
       "    <tr>\n",
       "      <th>type</th>\n",
       "      <th></th>\n",
       "    </tr>\n",
       "  </thead>\n",
       "  <tbody>\n",
       "    <tr>\n",
       "      <th>A</th>\n",
       "      <td>30426.4844</td>\n",
       "    </tr>\n",
       "  </tbody>\n",
       "</table>\n",
       "</div>"
      ],
      "text/plain": [
       "is_holiday       False\n",
       "type                  \n",
       "A           30426.4844"
      ]
     },
     "execution_count": 89,
     "metadata": {},
     "output_type": "execute_result"
    }
   ],
   "source": [
    "sales.pivot_table(index=\"type\",values=\"weekly_sales\",columns=\"is_holiday\")"
   ]
  },
  {
   "cell_type": "code",
   "execution_count": 92,
   "metadata": {},
   "outputs": [
    {
     "data": {
      "text/html": [
       "<div>\n",
       "<style scoped>\n",
       "    .dataframe tbody tr th:only-of-type {\n",
       "        vertical-align: middle;\n",
       "    }\n",
       "\n",
       "    .dataframe tbody tr th {\n",
       "        vertical-align: top;\n",
       "    }\n",
       "\n",
       "    .dataframe thead th {\n",
       "        text-align: right;\n",
       "    }\n",
       "</style>\n",
       "<table border=\"1\" class=\"dataframe\">\n",
       "  <thead>\n",
       "    <tr style=\"text-align: right;\">\n",
       "      <th>type</th>\n",
       "      <th>A</th>\n",
       "    </tr>\n",
       "    <tr>\n",
       "      <th>department</th>\n",
       "      <th></th>\n",
       "    </tr>\n",
       "  </thead>\n",
       "  <tbody>\n",
       "    <tr>\n",
       "      <th>1</th>\n",
       "      <td>23491.755000</td>\n",
       "    </tr>\n",
       "    <tr>\n",
       "      <th>2</th>\n",
       "      <td>47421.124167</td>\n",
       "    </tr>\n",
       "    <tr>\n",
       "      <th>3</th>\n",
       "      <td>12872.590000</td>\n",
       "    </tr>\n",
       "    <tr>\n",
       "      <th>4</th>\n",
       "      <td>38382.255833</td>\n",
       "    </tr>\n",
       "    <tr>\n",
       "      <th>5</th>\n",
       "      <td>27655.760000</td>\n",
       "    </tr>\n",
       "  </tbody>\n",
       "</table>\n",
       "</div>"
      ],
      "text/plain": [
       "type                   A\n",
       "department              \n",
       "1           23491.755000\n",
       "2           47421.124167\n",
       "3           12872.590000\n",
       "4           38382.255833\n",
       "5           27655.760000"
      ]
     },
     "execution_count": 92,
     "metadata": {},
     "output_type": "execute_result"
    }
   ],
   "source": [
    "sales.pivot_table(index=\"department\",columns=\"type\",values=\"weekly_sales\",fill_value=0)"
   ]
  },
  {
   "cell_type": "code",
   "execution_count": 93,
   "metadata": {},
   "outputs": [
    {
     "data": {
      "text/html": [
       "<div>\n",
       "<style scoped>\n",
       "    .dataframe tbody tr th:only-of-type {\n",
       "        vertical-align: middle;\n",
       "    }\n",
       "\n",
       "    .dataframe tbody tr th {\n",
       "        vertical-align: top;\n",
       "    }\n",
       "\n",
       "    .dataframe thead th {\n",
       "        text-align: right;\n",
       "    }\n",
       "</style>\n",
       "<table border=\"1\" class=\"dataframe\">\n",
       "  <thead>\n",
       "    <tr style=\"text-align: right;\">\n",
       "      <th>type</th>\n",
       "      <th>A</th>\n",
       "      <th>All</th>\n",
       "    </tr>\n",
       "    <tr>\n",
       "      <th>department</th>\n",
       "      <th></th>\n",
       "      <th></th>\n",
       "    </tr>\n",
       "  </thead>\n",
       "  <tbody>\n",
       "    <tr>\n",
       "      <th>1</th>\n",
       "      <td>23491.755000</td>\n",
       "      <td>23491.755000</td>\n",
       "    </tr>\n",
       "    <tr>\n",
       "      <th>2</th>\n",
       "      <td>47421.124167</td>\n",
       "      <td>47421.124167</td>\n",
       "    </tr>\n",
       "    <tr>\n",
       "      <th>3</th>\n",
       "      <td>12872.590000</td>\n",
       "      <td>12872.590000</td>\n",
       "    </tr>\n",
       "    <tr>\n",
       "      <th>4</th>\n",
       "      <td>38382.255833</td>\n",
       "      <td>38382.255833</td>\n",
       "    </tr>\n",
       "    <tr>\n",
       "      <th>5</th>\n",
       "      <td>27655.760000</td>\n",
       "      <td>27655.760000</td>\n",
       "    </tr>\n",
       "    <tr>\n",
       "      <th>All</th>\n",
       "      <td>30426.484400</td>\n",
       "      <td>30426.484400</td>\n",
       "    </tr>\n",
       "  </tbody>\n",
       "</table>\n",
       "</div>"
      ],
      "text/plain": [
       "type                   A           All\n",
       "department                            \n",
       "1           23491.755000  23491.755000\n",
       "2           47421.124167  47421.124167\n",
       "3           12872.590000  12872.590000\n",
       "4           38382.255833  38382.255833\n",
       "5           27655.760000  27655.760000\n",
       "All         30426.484400  30426.484400"
      ]
     },
     "execution_count": 93,
     "metadata": {},
     "output_type": "execute_result"
    }
   ],
   "source": [
    "sales.pivot_table(index=\"department\",columns=\"type\",values=\"weekly_sales\",fill_value=0,margins=True)"
   ]
  },
  {
   "cell_type": "code",
   "execution_count": null,
   "metadata": {},
   "outputs": [],
   "source": [
    "dataframe.sort_values(\"columnname\")"
   ]
  },
  {
   "cell_type": "code",
   "execution_count": null,
   "metadata": {},
   "outputs": [],
   "source": [
    "dataframe[Expression]"
   ]
  },
  {
   "cell_type": "code",
   "execution_count": null,
   "metadata": {},
   "outputs": [],
   "source": [
    "dataframe[\"colunname\"]"
   ]
  },
  {
   "cell_type": "code",
   "execution_count": null,
   "metadata": {},
   "outputs": [],
   "source": [
    "dataframe[\"newcolumnname\"]=Operation"
   ]
  }
 ],
 "metadata": {
  "kernelspec": {
   "display_name": "Python 3",
   "language": "python",
   "name": "python3"
  },
  "language_info": {
   "codemirror_mode": {
    "name": "ipython",
    "version": 3
   },
   "file_extension": ".py",
   "mimetype": "text/x-python",
   "name": "python",
   "nbconvert_exporter": "python",
   "pygments_lexer": "ipython3",
   "version": "3.7.1"
  }
 },
 "nbformat": 4,
 "nbformat_minor": 2
}
